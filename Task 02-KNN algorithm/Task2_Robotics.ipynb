{
  "cells": [
    {
      "cell_type": "code",
      "execution_count": 1,
      "id": "968be6d1",
      "metadata": {
        "id": "968be6d1"
      },
      "outputs": [
        {
          "name": "stderr",
          "output_type": "stream",
          "text": [
            "c:\\Users\\Marina\\AppData\\Local\\Programs\\Python\\Python39\\lib\\site-packages\\scipy\\__init__.py:177: UserWarning: A NumPy version >=1.18.5 and <1.26.0 is required for this version of SciPy (detected version 1.26.1\n",
            "  warnings.warn(f\"A NumPy version >={np_minversion} and <{np_maxversion}\"\n"
          ]
        }
      ],
      "source": [
        "import pandas as pd\n",
        "import numpy as np\n",
        "\n",
        "from sklearn.neighbors import KNeighborsClassifier\n",
        "from sklearn.neighbors import RadiusNeighborsClassifier\n",
        "\n",
        "from sklearn.metrics import mean_squared_error, r2_score , accuracy_score\n",
        "from sklearn.metrics import confusion_matrix\n",
        "from sklearn.model_selection import train_test_split\n",
        "from scipy.stats import mode\n",
        "\n",
        "import matplotlib.pyplot as plt\n",
        "import seaborn as sns"
      ]
    },
    {
      "cell_type": "markdown",
      "metadata": {},
      "source": [
        "## Read CSV File"
      ]
    },
    {
      "cell_type": "code",
      "execution_count": 2,
      "id": "a21a5407",
      "metadata": {
        "id": "a21a5407"
      },
      "outputs": [],
      "source": [
        "df = pd.read_csv(r\"Prostate_Cancer.csv\")"
      ]
    },
    {
      "cell_type": "markdown",
      "metadata": {},
      "source": [
        "# Data Analysis"
      ]
    },
    {
      "cell_type": "markdown",
      "metadata": {},
      "source": [
        "## 1. display top 5 rows"
      ]
    },
    {
      "cell_type": "code",
      "execution_count": 3,
      "id": "bf6565a2",
      "metadata": {
        "colab": {
          "base_uri": "https://localhost:8080/",
          "height": 226
        },
        "id": "bf6565a2",
        "outputId": "5dc894b9-3c74-430a-884f-6df1403bfc03"
      },
      "outputs": [
        {
          "data": {
            "text/html": [
              "<div>\n",
              "<style scoped>\n",
              "    .dataframe tbody tr th:only-of-type {\n",
              "        vertical-align: middle;\n",
              "    }\n",
              "\n",
              "    .dataframe tbody tr th {\n",
              "        vertical-align: top;\n",
              "    }\n",
              "\n",
              "    .dataframe thead th {\n",
              "        text-align: right;\n",
              "    }\n",
              "</style>\n",
              "<table border=\"1\" class=\"dataframe\">\n",
              "  <thead>\n",
              "    <tr style=\"text-align: right;\">\n",
              "      <th></th>\n",
              "      <th>id</th>\n",
              "      <th>diagnosis_result</th>\n",
              "      <th>radius</th>\n",
              "      <th>texture</th>\n",
              "      <th>perimeter</th>\n",
              "      <th>area</th>\n",
              "      <th>smoothness</th>\n",
              "      <th>compactness</th>\n",
              "      <th>symmetry</th>\n",
              "      <th>fractal_dimension</th>\n",
              "    </tr>\n",
              "  </thead>\n",
              "  <tbody>\n",
              "    <tr>\n",
              "      <th>0</th>\n",
              "      <td>1</td>\n",
              "      <td>M</td>\n",
              "      <td>23</td>\n",
              "      <td>12</td>\n",
              "      <td>151</td>\n",
              "      <td>954</td>\n",
              "      <td>0.143</td>\n",
              "      <td>0.278</td>\n",
              "      <td>0.242</td>\n",
              "      <td>0.079</td>\n",
              "    </tr>\n",
              "    <tr>\n",
              "      <th>1</th>\n",
              "      <td>2</td>\n",
              "      <td>B</td>\n",
              "      <td>9</td>\n",
              "      <td>13</td>\n",
              "      <td>133</td>\n",
              "      <td>1326</td>\n",
              "      <td>0.143</td>\n",
              "      <td>0.079</td>\n",
              "      <td>0.181</td>\n",
              "      <td>0.057</td>\n",
              "    </tr>\n",
              "    <tr>\n",
              "      <th>2</th>\n",
              "      <td>3</td>\n",
              "      <td>M</td>\n",
              "      <td>21</td>\n",
              "      <td>27</td>\n",
              "      <td>130</td>\n",
              "      <td>1203</td>\n",
              "      <td>0.125</td>\n",
              "      <td>0.160</td>\n",
              "      <td>0.207</td>\n",
              "      <td>0.060</td>\n",
              "    </tr>\n",
              "    <tr>\n",
              "      <th>3</th>\n",
              "      <td>4</td>\n",
              "      <td>M</td>\n",
              "      <td>14</td>\n",
              "      <td>16</td>\n",
              "      <td>78</td>\n",
              "      <td>386</td>\n",
              "      <td>0.070</td>\n",
              "      <td>0.284</td>\n",
              "      <td>0.260</td>\n",
              "      <td>0.097</td>\n",
              "    </tr>\n",
              "    <tr>\n",
              "      <th>4</th>\n",
              "      <td>5</td>\n",
              "      <td>M</td>\n",
              "      <td>9</td>\n",
              "      <td>19</td>\n",
              "      <td>135</td>\n",
              "      <td>1297</td>\n",
              "      <td>0.141</td>\n",
              "      <td>0.133</td>\n",
              "      <td>0.181</td>\n",
              "      <td>0.059</td>\n",
              "    </tr>\n",
              "  </tbody>\n",
              "</table>\n",
              "</div>"
            ],
            "text/plain": [
              "   id diagnosis_result  radius  texture  perimeter  area  smoothness  \\\n",
              "0   1                M      23       12        151   954       0.143   \n",
              "1   2                B       9       13        133  1326       0.143   \n",
              "2   3                M      21       27        130  1203       0.125   \n",
              "3   4                M      14       16         78   386       0.070   \n",
              "4   5                M       9       19        135  1297       0.141   \n",
              "\n",
              "   compactness  symmetry  fractal_dimension  \n",
              "0        0.278     0.242              0.079  \n",
              "1        0.079     0.181              0.057  \n",
              "2        0.160     0.207              0.060  \n",
              "3        0.284     0.260              0.097  \n",
              "4        0.133     0.181              0.059  "
            ]
          },
          "execution_count": 3,
          "metadata": {},
          "output_type": "execute_result"
        }
      ],
      "source": [
        "df.head()"
      ]
    },
    {
      "cell_type": "markdown",
      "metadata": {},
      "source": [
        "## 2. Preview data info"
      ]
    },
    {
      "cell_type": "code",
      "execution_count": 4,
      "id": "40ad45b0",
      "metadata": {
        "colab": {
          "base_uri": "https://localhost:8080/"
        },
        "id": "40ad45b0",
        "outputId": "f3c4da94-8ed5-49e0-84f9-b6f70d9077ad"
      },
      "outputs": [
        {
          "name": "stdout",
          "output_type": "stream",
          "text": [
            "<class 'pandas.core.frame.DataFrame'>\n",
            "RangeIndex: 100 entries, 0 to 99\n",
            "Data columns (total 10 columns):\n",
            " #   Column             Non-Null Count  Dtype  \n",
            "---  ------             --------------  -----  \n",
            " 0   id                 100 non-null    int64  \n",
            " 1   diagnosis_result   100 non-null    object \n",
            " 2   radius             100 non-null    int64  \n",
            " 3   texture            100 non-null    int64  \n",
            " 4   perimeter          100 non-null    int64  \n",
            " 5   area               100 non-null    int64  \n",
            " 6   smoothness         100 non-null    float64\n",
            " 7   compactness        100 non-null    float64\n",
            " 8   symmetry           100 non-null    float64\n",
            " 9   fractal_dimension  100 non-null    float64\n",
            "dtypes: float64(4), int64(5), object(1)\n",
            "memory usage: 7.9+ KB\n"
          ]
        }
      ],
      "source": [
        "df.info()"
      ]
    },
    {
      "cell_type": "markdown",
      "id": "d00f04af",
      "metadata": {
        "id": "d00f04af"
      },
      "source": [
        "### no missing values but there is a categorical column"
      ]
    },
    {
      "cell_type": "markdown",
      "metadata": {},
      "source": [
        "# Univariate Analysis"
      ]
    },
    {
      "cell_type": "code",
      "execution_count": 5,
      "metadata": {},
      "outputs": [
        {
          "data": {
            "text/plain": [
              "<AxesSubplot: ylabel='diagnosis_result'>"
            ]
          },
          "execution_count": 5,
          "metadata": {},
          "output_type": "execute_result"
        },
        {
          "data": {
            "image/png": "[encoded data removed]",
            "text/plain": [
              "<Figure size 640x480 with 1 Axes>"
            ]
          },
          "metadata": {},
          "output_type": "display_data"
        }
      ],
      "source": [
        "df['diagnosis_result'].value_counts().plot(kind=\"pie\",autopct=\"%1.2f%%\")"
      ]
    },
    {
      "cell_type": "markdown",
      "metadata": {},
      "source": [
        "# multi/bivariate analysis"
      ]
    },
    {
      "cell_type": "code",
      "execution_count": 6,
      "metadata": {},
      "outputs": [
        {
          "name": "stderr",
          "output_type": "stream",
          "text": [
            "C:\\Users\\Marina\\AppData\\Local\\Temp\\ipykernel_14560\\2026696898.py:1: FutureWarning: The default value of numeric_only in DataFrame.corr is deprecated. In a future version, it will default to False. Select only valid columns or specify the value of numeric_only to silence this warning.\n",
            "  sns.heatmap( df.corr(), annot=True)\n"
          ]
        },
        {
          "data": {
            "text/plain": [
              "<AxesSubplot: >"
            ]
          },
          "execution_count": 6,
          "metadata": {},
          "output_type": "execute_result"
        },
        {
          "data": {
            "image/png": "[encoded data removed]",
            "text/plain": [
              "<Figure size 640x480 with 2 Axes>"
            ]
          },
          "metadata": {},
          "output_type": "display_data"
        }
      ],
      "source": [
        "sns.heatmap( df.corr(), annot=True)"
      ]
    },
    {
      "cell_type": "markdown",
      "metadata": {},
      "source": [
        "## visualize the relation between perimeter and area"
      ]
    },
    {
      "cell_type": "code",
      "execution_count": 7,
      "metadata": {},
      "outputs": [
        {
          "data": {
            "text/plain": [
              "<AxesSubplot: xlabel='perimeter', ylabel='area'>"
            ]
          },
          "execution_count": 7,
          "metadata": {},
          "output_type": "execute_result"
        },
        {
          "data": {
            "image/png": "[encoded data removed]",
            "text/plain": [
              "<Figure size 640x480 with 1 Axes>"
            ]
          },
          "metadata": {},
          "output_type": "display_data"
        }
      ],
      "source": [
        "sns.scatterplot(x=df['perimeter'],y=df['area'])"
      ]
    },
    {
      "cell_type": "markdown",
      "metadata": {},
      "source": [
        "# Data Preprocessing"
      ]
    },
    {
      "cell_type": "code",
      "execution_count": 8,
      "id": "52da0a8c",
      "metadata": {
        "colab": {
          "base_uri": "https://localhost:8080/"
        },
        "id": "52da0a8c",
        "outputId": "bcd1ef09-53db-49c4-ac4d-50239c2bff7c"
      },
      "outputs": [
        {
          "name": "stdout",
          "output_type": "stream",
          "text": [
            "Unique values in 'id': [  1   2   3   4   5   6   7   8   9  10  11  12  13  14  15  16  17  18\n",
            "  19  20  21  22  23  24  25  26  27  28  29  30  31  32  33  34  35  36\n",
            "  37  38  39  40  41  42  43  44  45  46  47  48  49  50  51  52  53  54\n",
            "  55  56  57  58  59  60  61  62  63  64  65  66  67  68  69  70  71  72\n",
            "  73  74  75  76  77  78  79  80  81  82  83  84  85  86  87  88  89  90\n",
            "  91  92  93  94  95  96  97  98  99 100]\n",
            "Unique values in 'diagnosis_result': ['M' 'B']\n",
            "Unique values in 'radius': [23  9 21 14 25 16 15 19 24 17 12 22 10 20 11 18]\n",
            "Unique values in 'texture': [12 13 27 16 19 25 26 18 24 11 21 15 22 14 23 20 17]\n",
            "Unique values in 'perimeter': [151 133 130  78 135  83 120  90  88  84 103 104 132  94  97  95 108  87\n",
            "  86  60 137 110 116 122 102 115 125 113 128 107  96  72  85 124  52  75\n",
            "  76  73 126  54  65  55  59  81 114  79 144  74 172 129  77 121  80 100\n",
            "  62]\n",
            "Unique values in 'area': [ 954 1326 1203  386 1297  477 1040  578  520  476  798  781 1123  783\n",
            "  659  685  799 1260  566  274  704 1404  905  913  645 1094  732  955\n",
            " 1088  441  899 1162  807  870  633  524  699  559  563  371 1104  545\n",
            "  532 1076  202  535  449  561  428  572  438 1033  713  409 1152  657\n",
            "  527  225  312  222  646  261  499  668  269  394  251  503 1130  244\n",
            "  929  584  471  818 1006 1245  506  402 1878 1132  443 1075  648  466\n",
            "  652  663  728  552  555  706 1264  451  295  413  643]\n",
            "Unique values in 'smoothness': [0.143 0.125 0.07  0.141 0.128 0.095 0.119 0.127 0.082 0.097 0.084 0.113\n",
            " 0.114 0.099 0.117 0.098 0.108 0.102 0.107 0.094 0.112 0.105 0.106 0.111\n",
            " 0.12  0.104 0.096 0.09  0.123 0.091 0.11  0.086 0.116 0.103 0.088 0.077\n",
            " 0.083 0.115 0.081 0.124 0.101 0.092 0.129 0.122 0.074]\n",
            "Unique values in 'compactness': [0.278 0.079 0.16  0.284 0.133 0.17  0.109 0.165 0.193 0.24  0.067 0.129\n",
            " 0.246 0.1   0.229 0.072 0.202 0.103 0.081 0.127 0.065 0.214 0.102 0.146\n",
            " 0.228 0.187 0.107 0.116 0.189 0.152 0.15  0.172 0.156 0.134 0.11  0.038\n",
            " 0.051 0.126 0.06  0.122 0.219 0.144 0.105 0.169 0.059 0.123 0.091 0.077\n",
            " 0.05  0.061 0.048 0.149 0.071 0.055 0.137 0.053 0.09  0.201 0.088 0.148\n",
            " 0.078 0.047 0.141 0.052 0.153 0.183 0.128 0.068 0.084 0.215 0.345 0.095\n",
            " 0.094 0.154 0.267 0.179 0.099 0.121 0.086 0.104 0.082 0.155 0.131 0.075\n",
            " 0.114]\n",
            "Unique values in 'symmetry': [0.242 0.181 0.207 0.26  0.209 0.179 0.22  0.235 0.203 0.153 0.184 0.24\n",
            " 0.185 0.23  0.159 0.216 0.158 0.189 0.197 0.182 0.252 0.177 0.2   0.304\n",
            " 0.225 0.17  0.193 0.174 0.218 0.19  0.147 0.157 0.172 0.178 0.231 0.175\n",
            " 0.191 0.213 0.168 0.15  0.135 0.187 0.162 0.192 0.274 0.183 0.195 0.234\n",
            " 0.152 0.211 0.166 0.18  0.215 0.291 0.194 0.163 0.208 0.212 0.169 0.139\n",
            " 0.164 0.186 0.21  0.188]\n",
            "Unique values in 'fractal_dimension': [0.079 0.057 0.06  0.097 0.059 0.076 0.075 0.074 0.082 0.061 0.078 0.053\n",
            " 0.077 0.071 0.054 0.058 0.068 0.069 0.07  0.063 0.065 0.062 0.064 0.055\n",
            " 0.056 0.072 0.073 0.066 0.067 0.08  0.09  0.081]\n"
          ]
        }
      ],
      "source": [
        "for column in df.columns:\n",
        "    unique_values = df[column].unique()\n",
        "    print(f\"Unique values in '{column}': {unique_values}\")"
      ]
    },
    {
      "cell_type": "code",
      "execution_count": 9,
      "id": "cf09da09",
      "metadata": {
        "id": "cf09da09"
      },
      "outputs": [],
      "source": [
        "df['diagnosis_result'] = df['diagnosis_result'].map({'M': 0, 'B': 1}) #convert M to 0 and B to 1"
      ]
    },
    {
      "cell_type": "code",
      "execution_count": 10,
      "id": "553b8506",
      "metadata": {
        "id": "553b8506"
      },
      "outputs": [],
      "source": [
        "X = df.drop(columns=['diagnosis_result','id']) # all columns except diagnosis result and id are the input variables\n",
        "y = df['diagnosis_result'] # target Variable"
      ]
    },
    {
      "cell_type": "code",
      "execution_count": 11,
      "id": "cf491bb4",
      "metadata": {
        "id": "cf491bb4"
      },
      "outputs": [],
      "source": [
        "X_train, X_test, y_train, y_test = train_test_split(X, y, test_size=0.2, random_state=42)"
      ]
    },
    {
      "cell_type": "markdown",
      "id": "Vh6zy_HWeUHh",
      "metadata": {
        "id": "Vh6zy_HWeUHh"
      },
      "source": [
        "# outliers"
      ]
    },
    {
      "cell_type": "code",
      "execution_count": 12,
      "id": "bqlU2R9YeUHq",
      "metadata": {
        "id": "bqlU2R9YeUHq"
      },
      "outputs": [],
      "source": [
        "mean_X = np.mean(X_train, axis=0)\n",
        "std_dev_X = np.std(X_train, axis=0)\n",
        "\n",
        "# Set the threshold for outliers (e.g., 3 standard deviations)\n",
        "threshold = 3\n",
        "\n",
        "# Identify outliers in X_train\n",
        "outliers= np.any(np.abs((X_train - mean_X) / std_dev_X) > threshold, axis=1)\n",
        "\n",
        "# Remove outliers from X_train and corresponding labels from y_train\n",
        "X_train_no_outliers = X_train[~outliers]\n",
        "y_train_no_outliers = y_train[~outliers]\n"
      ]
    },
    {
      "cell_type": "code",
      "execution_count": 13,
      "id": "65YxGAU-eUHr",
      "metadata": {
        "colab": {
          "base_uri": "https://localhost:8080/"
        },
        "id": "65YxGAU-eUHr",
        "outputId": "ab34290d-9d70-45e3-c137-500a3a8f1148"
      },
      "outputs": [
        {
          "data": {
            "text/plain": [
              "75"
            ]
          },
          "execution_count": 13,
          "metadata": {},
          "output_type": "execute_result"
        }
      ],
      "source": [
        "X_train_no_outliers_shape = X_train_no_outliers.shape[0]\n",
        "X_train_no_outliers_shape"
      ]
    },
    {
      "cell_type": "markdown",
      "id": "3a92c05f",
      "metadata": {
        "id": "3a92c05f"
      },
      "source": [
        "# normalization"
      ]
    },
    {
      "cell_type": "code",
      "execution_count": 14,
      "id": "421a9dae",
      "metadata": {
        "id": "421a9dae"
      },
      "outputs": [],
      "source": [
        "from sklearn.preprocessing import StandardScaler\n",
        "\n",
        "scaler = StandardScaler()\n",
        "\n",
        "# Fit and transform the scaler on training data\n",
        "X_train_normalized = scaler.fit_transform(X_train_no_outliers)\n",
        "\n",
        "# Transform the test data using the same scaler\n",
        "X_test_normalized = scaler.transform(X_test)"
      ]
    },
    {
      "cell_type": "code",
      "execution_count": 15,
      "id": "4fcb2f9a",
      "metadata": {
        "colab": {
          "base_uri": "https://localhost:8080/"
        },
        "id": "4fcb2f9a",
        "outputId": "9a6db015-30df-46ee-c85f-4bc2afdd3449"
      },
      "outputs": [
        {
          "data": {
            "text/plain": [
              "75"
            ]
          },
          "execution_count": 15,
          "metadata": {},
          "output_type": "execute_result"
        }
      ],
      "source": [
        "X_train_shape = X_train_normalized.shape[0]\n",
        "X_train_shape"
      ]
    },
    {
      "cell_type": "markdown",
      "id": "9c29302e",
      "metadata": {
        "id": "9c29302e"
      },
      "source": [
        "# KNN Classifier with Scikit-learn"
      ]
    },
    {
      "cell_type": "code",
      "execution_count": 16,
      "id": "34c502f6",
      "metadata": {
        "colab": {
          "base_uri": "https://localhost:8080/"
        },
        "id": "34c502f6",
        "outputId": "45ef7050-eec9-4831-9609-45cc253c1af1"
      },
      "outputs": [
        {
          "name": "stdout",
          "output_type": "stream",
          "text": [
            "KNN Accuracy (Scikit-learn): 0.85\n"
          ]
        },
        {
          "name": "stderr",
          "output_type": "stream",
          "text": [
            "c:\\Users\\Marina\\AppData\\Local\\Programs\\Python\\Python39\\lib\\site-packages\\sklearn\\neighbors\\_classification.py:228: FutureWarning: Unlike other reduction functions (e.g. `skew`, `kurtosis`), the default behavior of `mode` typically preserves the axis it acts along. In SciPy 1.11.0, this behavior will change: the default value of `keepdims` will become False, the `axis` over which the statistic is taken will be eliminated, and the value None will no longer be accepted. Set `keepdims` to True or False to avoid this warning.\n",
            "  mode, _ = stats.mode(_y[neigh_ind, k], axis=1)\n"
          ]
        }
      ],
      "source": [
        "knn_classifier = KNeighborsClassifier(n_neighbors=3)  # You can change the number of neighbors\n",
        "knn_classifier.fit(X_train_normalized, y_train_no_outliers)\n",
        "\n",
        "y_pred = knn_classifier.predict(X_test_normalized)\n",
        "\n",
        "accuracy = accuracy_score(y_test, y_pred)\n",
        "print(\"KNN Accuracy (Scikit-learn):\", accuracy)"
      ]
    },
    {
      "cell_type": "markdown",
      "id": "LhgOOsVPdMN3",
      "metadata": {
        "id": "LhgOOsVPdMN3"
      },
      "source": [
        "# KNN From Scratch"
      ]
    },
    {
      "cell_type": "code",
      "execution_count": 17,
      "id": "IdiwTHb0dY-F",
      "metadata": {
        "id": "IdiwTHb0dY-F"
      },
      "outputs": [],
      "source": [
        "\n",
        "# K Nearest Neighbors Classification From Scrath\n",
        "\n",
        "class K_Nearest_Neighbors_Classifier() :\n",
        "\n",
        "    def __init__( self, K ) :\n",
        "        self.K = K\n",
        "\n",
        "\n",
        "\n",
        "    def fit( self, X_train, Y_train ) :\n",
        "        self.X_train = np.array(X_train)\n",
        "        self.Y_train = np.array(Y_train)\n",
        "        self.m, self.n = X_train.shape\n",
        "\n",
        "    # Prediciting\n",
        "    def predict( self, X_test ) :\n",
        "        self.X_test = np.array(X_test)\n",
        "        self.m_test, self.n = X_test.shape\n",
        "\n",
        "        Y_predict = np.zeros( self.m_test )\n",
        "\n",
        "        for i in range( self.m_test ) :\n",
        "\n",
        "            x = self.X_test[i]\n",
        "\n",
        "            # Finding the K nearest neighbors from current test example\n",
        "            neighbors = np.zeros( self.K )\n",
        "            neighbors = self.find_neighbors( x )\n",
        "\n",
        "            # Most frequent class in K neighbors\n",
        "            Y_predict[i] = mode(neighbors)[0]\n",
        "\n",
        "        return Y_predict\n",
        "\n",
        "    # Finding the K nearest neighbors to current test example\n",
        "    def find_neighbors( self, x ) :\n",
        "        # calculate all the euclidean distances between current\n",
        "        # test example x and training set X_train\n",
        "\n",
        "        euclidean_distances = np.zeros( self.m )\n",
        "        for i in range( self.m ):\n",
        "            d = self.euclidean( x, self.X_train[i] )\n",
        "            euclidean_distances[i] = d\n",
        "\n",
        "        # sort Y_train according to euclidean_distance_array and\n",
        "        # store into Y_train_sorted\n",
        "\n",
        "        inds = euclidean_distances.argsort()\n",
        "        Y_train_sorted = self.Y_train[inds]\n",
        "\n",
        "        return Y_train_sorted[:self.K]\n",
        "\n",
        "    # Calculating euclidean distance\n",
        "    def euclidean( self, x, x_train ) :\n",
        "        return np.sqrt( np.sum( np.square( x - x_train ) ) )"
      ]
    },
    {
      "cell_type": "code",
      "execution_count": 18,
      "id": "j9MohXYidY3S",
      "metadata": {
        "colab": {
          "base_uri": "https://localhost:8080/"
        },
        "id": "j9MohXYidY3S",
        "outputId": "e8c3261a-e04f-4a34-9c65-8f173974e050"
      },
      "outputs": [
        {
          "name": "stdout",
          "output_type": "stream",
          "text": [
            "Accuracy on test set by our model:  85.0\n"
          ]
        },
        {
          "name": "stderr",
          "output_type": "stream",
          "text": [
            "C:\\Users\\Marina\\AppData\\Local\\Temp\\ipykernel_14560\\2552894081.py:31: FutureWarning: Unlike other reduction functions (e.g. `skew`, `kurtosis`), the default behavior of `mode` typically preserves the axis it acts along. In SciPy 1.11.0, this behavior will change: the default value of `keepdims` will become False, the `axis` over which the statistic is taken will be eliminated, and the value None will no longer be accepted. Set `keepdims` to True or False to avoid this warning.\n",
            "  Y_predict[i] = mode(neighbors)[0]\n",
            "C:\\Users\\Marina\\AppData\\Local\\Temp\\ipykernel_14560\\2552894081.py:31: DeprecationWarning: Conversion of an array with ndim > 0 to a scalar is deprecated, and will error in future. Ensure you extract a single element from your array before performing this operation. (Deprecated NumPy 1.25.)\n",
            "  Y_predict[i] = mode(neighbors)[0]\n"
          ]
        }
      ],
      "source": [
        "X_train = X_train_no_outliers\n",
        "y_train = y_train_no_outliers\n",
        "\n",
        "model = K_Nearest_Neighbors_Classifier( K = 3 )\n",
        "\n",
        "model.fit( X_train_normalized, y_train )\n",
        "\n",
        "# Predicting\n",
        "y_pred = model.predict( X_test_normalized)\n",
        "\n",
        "# Calculating Accuracy\n",
        "correctly_classified = 0\n",
        "count = 0\n",
        "for count in range( np.size( y_pred ) ) :\n",
        "    if np.array(y_test)[count] == y_pred[count] :\n",
        "        correctly_classified += 1\n",
        "    count += 1\n",
        "\n",
        "print( \"Accuracy on test set by our model: \", (\n",
        "  correctly_classified / count ) * 100 )"
      ]
    },
    {
      "cell_type": "code",
      "execution_count": 19,
      "metadata": {},
      "outputs": [
        {
          "name": "stdout",
          "output_type": "stream",
          "text": [
            "Confusion Matrix:\n",
            "[[16  0]\n",
            " [ 3  1]]\n",
            "\n",
            "Accuracy: 0.85\n",
            "\n",
            "Sensitivity: 0.8421052631578947\n",
            "\n",
            "Specificity: 1.0\n"
          ]
        }
      ],
      "source": [
        "print(\"Confusion Matrix:\")\n",
        "cm = confusion_matrix(y_test, y_pred)\n",
        "print(cm)\n",
        "\n",
        "Accuracy = (cm[0,0]+ cm[1,1])/ (cm[0,0]+ cm[0,1] + cm[1,0]+ cm[1,1])\n",
        "print(\"\\nAccuracy: \" + str(Accuracy)) # accuracy as a metric\n",
        "\n",
        "Sensitivity = cm[0,0]/(cm[0,0] + cm[1,0])\n",
        "print(\"\\nSensitivity: \" + str(Sensitivity)) \n",
        "\n",
        "Specificity = cm[1,1]/(cm[1,1] + cm[0,1])\n",
        "print(\"\\nSpecificity: \" + str(Specificity))"
      ]
    },
    {
      "cell_type": "markdown",
      "id": "gR7-i8leYRrr",
      "metadata": {
        "id": "gR7-i8leYRrr"
      },
      "source": [
        "There is not any difference between using Sklearn or the from-scratch implementation, they both behave the same with the data."
      ]
    },
    {
      "cell_type": "markdown",
      "id": "c366ba49",
      "metadata": {
        "id": "c366ba49"
      },
      "source": [
        "# Radius Nearest Neighbor Classifier with Scikit-learn"
      ]
    },
    {
      "cell_type": "code",
      "execution_count": 20,
      "id": "9548129c",
      "metadata": {
        "colab": {
          "base_uri": "https://localhost:8080/"
        },
        "id": "9548129c",
        "outputId": "0a93ecc3-8e91-4561-8aa5-8bf1ebbe405a"
      },
      "outputs": [
        {
          "name": "stdout",
          "output_type": "stream",
          "text": [
            "Radius Nearest Neighbor Accuracy (Scikit-learn): 0.75\n"
          ]
        }
      ],
      "source": [
        "radius_classifier = RadiusNeighborsClassifier(radius=100.0)\n",
        "radius_classifier.fit(X_train, y_train)\n",
        "\n",
        "y_pred_radius = radius_classifier.predict(X_test)\n",
        "\n",
        "\n",
        "accuracy_radius = accuracy_score(y_test, y_pred_radius)\n",
        "print(\"Radius Nearest Neighbor Accuracy (Scikit-learn):\", accuracy_radius)\n"
      ]
    },
    {
      "cell_type": "code",
      "execution_count": 21,
      "id": "8702c7e9",
      "metadata": {
        "colab": {
          "base_uri": "https://localhost:8080/"
        },
        "id": "8702c7e9",
        "outputId": "e6d190d6-beb7-499a-9a99-d4afbee28f39"
      },
      "outputs": [
        {
          "name": "stdout",
          "output_type": "stream",
          "text": [
            "Radius Nearest Neighbor Accuracy (Scikit-learn): 0.8\n"
          ]
        }
      ],
      "source": [
        "radius_classifier = RadiusNeighborsClassifier(radius=1000.0)\n",
        "radius_classifier.fit(X_train, y_train)\n",
        "\n",
        "y_pred_radius = radius_classifier.predict(X_test)\n",
        "\n",
        "\n",
        "accuracy_radius = accuracy_score(y_test, y_pred_radius)\n",
        "print(\"Radius Nearest Neighbor Accuracy (Scikit-learn):\", accuracy_radius)"
      ]
    },
    {
      "cell_type": "markdown",
      "id": "1ByHCRqu5rnx",
      "metadata": {
        "id": "1ByHCRqu5rnx"
      },
      "source": [
        "# Radius Nearest Neighbor From Scratch\n"
      ]
    },
    {
      "cell_type": "code",
      "execution_count": 22,
      "id": "vKEEvr655rny",
      "metadata": {
        "id": "vKEEvr655rny"
      },
      "outputs": [],
      "source": [
        "from scipy.stats import mode\n",
        "\n",
        "class Radius_Nearest_Neighbors_Classifier() :\n",
        "\n",
        "    def __init__( self, r ) :\n",
        "        self.r = r\n",
        "\n",
        "    # Store training Data\n",
        "    def fit( self, X_train, Y_train ) :\n",
        "        self.X_train = X_train\n",
        "        self.Y_train = Y_train\n",
        "        # number of trainging examples and features\n",
        "        self.t, self.f = X_train.shape\n",
        "\n",
        "    # prediction of model\n",
        "    def predict( self, X_test ) :\n",
        "        self.X_test = np.array(X_test)\n",
        "        self.t_test, self.f = X_test.shape\n",
        "        Y_predict = np.zeros( self.t_test )\n",
        "\n",
        "        for i in range( self.t_test ) :\n",
        "            x = (self.X_test)[i]\n",
        "            neighbors = self.neighbors( x )\n",
        "            Y_predict[i] = mode(neighbors)[0]\n",
        "\n",
        "        return Y_predict\n",
        "\n",
        "    # find the neighbours within the given radius\n",
        "    def neighbors( self, x ) :\n",
        "        arr = []\n",
        "\n",
        "        for i in range( self.t) :\n",
        "            calc_dist = self.euclidean_distance( x, np.array(self.X_train)[i] )\n",
        "            if calc_dist <= self.r :\n",
        "                arr.append( np.array(self.Y_train)[i] )\n",
        "\n",
        "        new_arr = np.array( arr )\n",
        "        return new_arr\n",
        "\n",
        "    # Calculate Euclidean distance\n",
        "    def euclidean_distance( self, X, X_train ) :\n",
        "        distance = np.sqrt( np.sum( np.square( X - X_train ) ) )\n",
        "        return distance\n"
      ]
    },
    {
      "cell_type": "code",
      "execution_count": 23,
      "id": "LPmwWYtX5rny",
      "metadata": {
        "colab": {
          "base_uri": "https://localhost:8080/"
        },
        "id": "LPmwWYtX5rny",
        "outputId": "2b0510bb-5da3-4813-dff9-f2bf565fa183"
      },
      "outputs": [
        {
          "name": "stderr",
          "output_type": "stream",
          "text": [
            "C:\\Users\\Marina\\AppData\\Local\\Temp\\ipykernel_14560\\1327588151.py:24: FutureWarning: Unlike other reduction functions (e.g. `skew`, `kurtosis`), the default behavior of `mode` typically preserves the axis it acts along. In SciPy 1.11.0, this behavior will change: the default value of `keepdims` will become False, the `axis` over which the statistic is taken will be eliminated, and the value None will no longer be accepted. Set `keepdims` to True or False to avoid this warning.\n",
            "  Y_predict[i] = mode(neighbors)[0]\n",
            "C:\\Users\\Marina\\AppData\\Local\\Temp\\ipykernel_14560\\1327588151.py:24: DeprecationWarning: Conversion of an array with ndim > 0 to a scalar is deprecated, and will error in future. Ensure you extract a single element from your array before performing this operation. (Deprecated NumPy 1.25.)\n",
            "  Y_predict[i] = mode(neighbors)[0]\n"
          ]
        },
        {
          "name": "stdout",
          "output_type": "stream",
          "text": [
            "Accuracy of radius neighbor implementation from scratch:  0.8\n"
          ]
        }
      ],
      "source": [
        "# Model training\n",
        "model = Radius_Nearest_Neighbors_Classifier( r = 550 )\n",
        "model.fit( X_train, y_train )\n",
        "\n",
        "# Prediction on test set\n",
        "Y_pred = model.predict( X_test )\n",
        "\n",
        "# measure performance\n",
        "correctly_classified = 0\n",
        "count = 0\n",
        "\n",
        "for count in range( np.size( Y_pred ) ) :\n",
        "  if np.array(y_test)[count] == Y_pred[count] :\n",
        "    correctly_classified += 1\n",
        "  count = count + 1\n",
        "\n",
        "print(\"Accuracy of radius neighbor implementation from scratch: \", correctly_classified / count  )"
      ]
    },
    {
      "cell_type": "code",
      "execution_count": 24,
      "id": "8A1qIchF63qp",
      "metadata": {
        "id": "8A1qIchF63qp"
      },
      "outputs": [
        {
          "name": "stdout",
          "output_type": "stream",
          "text": [
            "Confusion Matrix:\n",
            "[[16  0]\n",
            " [ 4  0]]\n",
            "\n",
            "Accuracy: 0.8\n",
            "\n",
            "Sensitivity: 0.8\n"
          ]
        }
      ],
      "source": [
        "print(\"Confusion Matrix:\")\n",
        "cm = confusion_matrix(y_test, Y_pred)\n",
        "print(cm)\n",
        "\n",
        "Accuracy = (cm[0,0]+ cm[1,1])/ (cm[0,0]+ cm[0,1] + cm[1,0]+ cm[1,1])\n",
        "print(\"\\nAccuracy: \" + str(Accuracy)) # accuracy as a metric\n",
        "\n",
        "Sensitivity = cm[0,0]/(cm[0,0] + cm[1,0])\n",
        "print(\"\\nSensitivity: \" + str(Sensitivity)) \n"
      ]
    },
    {
      "cell_type": "code",
      "execution_count": null,
      "metadata": {},
      "outputs": [],
      "source": []
    }
  ],
  "metadata": {
    "colab": {
      "provenance": []
    },
    "kernelspec": {
      "display_name": "Python 3 (ipykernel)",
      "language": "python",
      "name": "python3"
    },
    "language_info": {
      "codemirror_mode": {
        "name": "ipython",
        "version": 3
      },
      "file_extension": ".py",
      "mimetype": "text/x-python",
      "name": "python",
      "nbconvert_exporter": "python",
      "pygments_lexer": "ipython3",
      "version": "3.9.4"
    }
  },
  "nbformat": 4,
  "nbformat_minor": 5
}
