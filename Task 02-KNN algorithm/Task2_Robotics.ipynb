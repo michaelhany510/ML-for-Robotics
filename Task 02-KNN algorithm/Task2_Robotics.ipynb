{
  "cells": [
    {
      "cell_type": "code",
      "execution_count": 52,
      "id": "968be6d1",
      "metadata": {
        "id": "968be6d1"
      },
      "outputs": [],
      "source": [
        "import pandas as pd\n",
        "import numpy as np\n",
        "\n",
        "from sklearn.neighbors import KNeighborsClassifier\n",
        "from sklearn.neighbors import RadiusNeighborsClassifier\n",
        "\n",
        "from sklearn.metrics import mean_squared_error, r2_score , accuracy_score\n",
        "from sklearn.model_selection import train_test_split\n",
        "from scipy.stats import mode"
      ]
    },
    {
      "cell_type": "code",
      "execution_count": 53,
      "id": "a21a5407",
      "metadata": {
        "id": "a21a5407"
      },
      "outputs": [],
      "source": [
        "df = pd.read_csv(r\"Prostate_Cancer.csv\")"
      ]
    },
    {
      "cell_type": "code",
      "execution_count": 54,
      "id": "bf6565a2",
      "metadata": {
        "colab": {
          "base_uri": "https://localhost:8080/",
          "height": 226
        },
        "id": "bf6565a2",
        "outputId": "5dc894b9-3c74-430a-884f-6df1403bfc03"
      },
      "outputs": [
        {
          "output_type": "execute_result",
          "data": {
            "text/plain": [
              "   id diagnosis_result  radius  texture  perimeter  area  smoothness  \\\n",
              "0   1                M      23       12        151   954       0.143   \n",
              "1   2                B       9       13        133  1326       0.143   \n",
              "2   3                M      21       27        130  1203       0.125   \n",
              "3   4                M      14       16         78   386       0.070   \n",
              "4   5                M       9       19        135  1297       0.141   \n",
              "\n",
              "   compactness  symmetry  fractal_dimension  \n",
              "0        0.278     0.242              0.079  \n",
              "1        0.079     0.181              0.057  \n",
              "2        0.160     0.207              0.060  \n",
              "3        0.284     0.260              0.097  \n",
              "4        0.133     0.181              0.059  "
            ],
            "text/html": [
              "\n",
              "  <div id=\"df-711b89e5-7471-4729-acaf-7f291ffa75a6\" class=\"colab-df-container\">\n",
              "    <div>\n",
              "<style scoped>\n",
              "    .dataframe tbody tr th:only-of-type {\n",
              "        vertical-align: middle;\n",
              "    }\n",
              "\n",
              "    .dataframe tbody tr th {\n",
              "        vertical-align: top;\n",
              "    }\n",
              "\n",
              "    .dataframe thead th {\n",
              "        text-align: right;\n",
              "    }\n",
              "</style>\n",
              "<table border=\"1\" class=\"dataframe\">\n",
              "  <thead>\n",
              "    <tr style=\"text-align: right;\">\n",
              "      <th></th>\n",
              "      <th>id</th>\n",
              "      <th>diagnosis_result</th>\n",
              "      <th>radius</th>\n",
              "      <th>texture</th>\n",
              "      <th>perimeter</th>\n",
              "      <th>area</th>\n",
              "      <th>smoothness</th>\n",
              "      <th>compactness</th>\n",
              "      <th>symmetry</th>\n",
              "      <th>fractal_dimension</th>\n",
              "    </tr>\n",
              "  </thead>\n",
              "  <tbody>\n",
              "    <tr>\n",
              "      <th>0</th>\n",
              "      <td>1</td>\n",
              "      <td>M</td>\n",
              "      <td>23</td>\n",
              "      <td>12</td>\n",
              "      <td>151</td>\n",
              "      <td>954</td>\n",
              "      <td>0.143</td>\n",
              "      <td>0.278</td>\n",
              "      <td>0.242</td>\n",
              "      <td>0.079</td>\n",
              "    </tr>\n",
              "    <tr>\n",
              "      <th>1</th>\n",
              "      <td>2</td>\n",
              "      <td>B</td>\n",
              "      <td>9</td>\n",
              "      <td>13</td>\n",
              "      <td>133</td>\n",
              "      <td>1326</td>\n",
              "      <td>0.143</td>\n",
              "      <td>0.079</td>\n",
              "      <td>0.181</td>\n",
              "      <td>0.057</td>\n",
              "    </tr>\n",
              "    <tr>\n",
              "      <th>2</th>\n",
              "      <td>3</td>\n",
              "      <td>M</td>\n",
              "      <td>21</td>\n",
              "      <td>27</td>\n",
              "      <td>130</td>\n",
              "      <td>1203</td>\n",
              "      <td>0.125</td>\n",
              "      <td>0.160</td>\n",
              "      <td>0.207</td>\n",
              "      <td>0.060</td>\n",
              "    </tr>\n",
              "    <tr>\n",
              "      <th>3</th>\n",
              "      <td>4</td>\n",
              "      <td>M</td>\n",
              "      <td>14</td>\n",
              "      <td>16</td>\n",
              "      <td>78</td>\n",
              "      <td>386</td>\n",
              "      <td>0.070</td>\n",
              "      <td>0.284</td>\n",
              "      <td>0.260</td>\n",
              "      <td>0.097</td>\n",
              "    </tr>\n",
              "    <tr>\n",
              "      <th>4</th>\n",
              "      <td>5</td>\n",
              "      <td>M</td>\n",
              "      <td>9</td>\n",
              "      <td>19</td>\n",
              "      <td>135</td>\n",
              "      <td>1297</td>\n",
              "      <td>0.141</td>\n",
              "      <td>0.133</td>\n",
              "      <td>0.181</td>\n",
              "      <td>0.059</td>\n",
              "    </tr>\n",
              "  </tbody>\n",
              "</table>\n",
              "</div>\n",
              "    <div class=\"colab-df-buttons\">\n",
              "\n",
              "  <div class=\"colab-df-container\">\n",
              "    <button class=\"colab-df-convert\" onclick=\"convertToInteractive('df-711b89e5-7471-4729-acaf-7f291ffa75a6')\"\n",
              "            title=\"Convert this dataframe to an interactive table.\"\n",
              "            style=\"display:none;\">\n",
              "\n",
              "  <svg xmlns=\"http://www.w3.org/2000/svg\" height=\"24px\" viewBox=\"0 -960 960 960\">\n",
              "    <path d=\"M120-120v-720h720v720H120Zm60-500h600v-160H180v160Zm220 220h160v-160H400v160Zm0 220h160v-160H400v160ZM180-400h160v-160H180v160Zm440 0h160v-160H620v160ZM180-180h160v-160H180v160Zm440 0h160v-160H620v160Z\"/>\n",
              "  </svg>\n",
              "    </button>\n",
              "\n",
              "  <style>\n",
              "    .colab-df-container {\n",
              "      display:flex;\n",
              "      gap: 12px;\n",
              "    }\n",
              "\n",
              "    .colab-df-convert {\n",
              "      background-color: #E8F0FE;\n",
              "      border: none;\n",
              "      border-radius: 50%;\n",
              "      cursor: pointer;\n",
              "      display: none;\n",
              "      fill: #1967D2;\n",
              "      height: 32px;\n",
              "      padding: 0 0 0 0;\n",
              "      width: 32px;\n",
              "    }\n",
              "\n",
              "    .colab-df-convert:hover {\n",
              "      background-color: #E2EBFA;\n",
              "      box-shadow: 0px 1px 2px rgba(60, 64, 67, 0.3), 0px 1px 3px 1px rgba(60, 64, 67, 0.15);\n",
              "      fill: #174EA6;\n",
              "    }\n",
              "\n",
              "    .colab-df-buttons div {\n",
              "      margin-bottom: 4px;\n",
              "    }\n",
              "\n",
              "    [theme=dark] .colab-df-convert {\n",
              "      background-color: #3B4455;\n",
              "      fill: #D2E3FC;\n",
              "    }\n",
              "\n",
              "    [theme=dark] .colab-df-convert:hover {\n",
              "      background-color: #434B5C;\n",
              "      box-shadow: 0px 1px 3px 1px rgba(0, 0, 0, 0.15);\n",
              "      filter: drop-shadow(0px 1px 2px rgba(0, 0, 0, 0.3));\n",
              "      fill: #FFFFFF;\n",
              "    }\n",
              "  </style>\n",
              "\n",
              "    <script>\n",
              "      const buttonEl =\n",
              "        document.querySelector('#df-711b89e5-7471-4729-acaf-7f291ffa75a6 button.colab-df-convert');\n",
              "      buttonEl.style.display =\n",
              "        google.colab.kernel.accessAllowed ? 'block' : 'none';\n",
              "\n",
              "      async function convertToInteractive(key) {\n",
              "        const element = document.querySelector('#df-711b89e5-7471-4729-acaf-7f291ffa75a6');\n",
              "        const dataTable =\n",
              "          await google.colab.kernel.invokeFunction('convertToInteractive',\n",
              "                                                    [key], {});\n",
              "        if (!dataTable) return;\n",
              "\n",
              "        const docLinkHtml = 'Like what you see? Visit the ' +\n",
              "          '<a target=\"_blank\" href=https://colab.research.google.com/notebooks/data_table.ipynb>data table notebook</a>'\n",
              "          + ' to learn more about interactive tables.';\n",
              "        element.innerHTML = '';\n",
              "        dataTable['output_type'] = 'display_data';\n",
              "        await google.colab.output.renderOutput(dataTable, element);\n",
              "        const docLink = document.createElement('div');\n",
              "        docLink.innerHTML = docLinkHtml;\n",
              "        element.appendChild(docLink);\n",
              "      }\n",
              "    </script>\n",
              "  </div>\n",
              "\n",
              "\n",
              "<div id=\"df-8f50a69b-0e75-425e-be01-24f2c12e1a71\">\n",
              "  <button class=\"colab-df-quickchart\" onclick=\"quickchart('df-8f50a69b-0e75-425e-be01-24f2c12e1a71')\"\n",
              "            title=\"Suggest charts\"\n",
              "            style=\"display:none;\">\n",
              "\n",
              "<svg xmlns=\"http://www.w3.org/2000/svg\" height=\"24px\"viewBox=\"0 0 24 24\"\n",
              "     width=\"24px\">\n",
              "    <g>\n",
              "        <path d=\"M19 3H5c-1.1 0-2 .9-2 2v14c0 1.1.9 2 2 2h14c1.1 0 2-.9 2-2V5c0-1.1-.9-2-2-2zM9 17H7v-7h2v7zm4 0h-2V7h2v10zm4 0h-2v-4h2v4z\"/>\n",
              "    </g>\n",
              "</svg>\n",
              "  </button>\n",
              "\n",
              "<style>\n",
              "  .colab-df-quickchart {\n",
              "      --bg-color: #E8F0FE;\n",
              "      --fill-color: #1967D2;\n",
              "      --hover-bg-color: #E2EBFA;\n",
              "      --hover-fill-color: #174EA6;\n",
              "      --disabled-fill-color: #AAA;\n",
              "      --disabled-bg-color: #DDD;\n",
              "  }\n",
              "\n",
              "  [theme=dark] .colab-df-quickchart {\n",
              "      --bg-color: #3B4455;\n",
              "      --fill-color: #D2E3FC;\n",
              "      --hover-bg-color: #434B5C;\n",
              "      --hover-fill-color: #FFFFFF;\n",
              "      --disabled-bg-color: #3B4455;\n",
              "      --disabled-fill-color: #666;\n",
              "  }\n",
              "\n",
              "  .colab-df-quickchart {\n",
              "    background-color: var(--bg-color);\n",
              "    border: none;\n",
              "    border-radius: 50%;\n",
              "    cursor: pointer;\n",
              "    display: none;\n",
              "    fill: var(--fill-color);\n",
              "    height: 32px;\n",
              "    padding: 0;\n",
              "    width: 32px;\n",
              "  }\n",
              "\n",
              "  .colab-df-quickchart:hover {\n",
              "    background-color: var(--hover-bg-color);\n",
              "    box-shadow: 0 1px 2px rgba(60, 64, 67, 0.3), 0 1px 3px 1px rgba(60, 64, 67, 0.15);\n",
              "    fill: var(--button-hover-fill-color);\n",
              "  }\n",
              "\n",
              "  .colab-df-quickchart-complete:disabled,\n",
              "  .colab-df-quickchart-complete:disabled:hover {\n",
              "    background-color: var(--disabled-bg-color);\n",
              "    fill: var(--disabled-fill-color);\n",
              "    box-shadow: none;\n",
              "  }\n",
              "\n",
              "  .colab-df-spinner {\n",
              "    border: 2px solid var(--fill-color);\n",
              "    border-color: transparent;\n",
              "    border-bottom-color: var(--fill-color);\n",
              "    animation:\n",
              "      spin 1s steps(1) infinite;\n",
              "  }\n",
              "\n",
              "  @keyframes spin {\n",
              "    0% {\n",
              "      border-color: transparent;\n",
              "      border-bottom-color: var(--fill-color);\n",
              "      border-left-color: var(--fill-color);\n",
              "    }\n",
              "    20% {\n",
              "      border-color: transparent;\n",
              "      border-left-color: var(--fill-color);\n",
              "      border-top-color: var(--fill-color);\n",
              "    }\n",
              "    30% {\n",
              "      border-color: transparent;\n",
              "      border-left-color: var(--fill-color);\n",
              "      border-top-color: var(--fill-color);\n",
              "      border-right-color: var(--fill-color);\n",
              "    }\n",
              "    40% {\n",
              "      border-color: transparent;\n",
              "      border-right-color: var(--fill-color);\n",
              "      border-top-color: var(--fill-color);\n",
              "    }\n",
              "    60% {\n",
              "      border-color: transparent;\n",
              "      border-right-color: var(--fill-color);\n",
              "    }\n",
              "    80% {\n",
              "      border-color: transparent;\n",
              "      border-right-color: var(--fill-color);\n",
              "      border-bottom-color: var(--fill-color);\n",
              "    }\n",
              "    90% {\n",
              "      border-color: transparent;\n",
              "      border-bottom-color: var(--fill-color);\n",
              "    }\n",
              "  }\n",
              "</style>\n",
              "\n",
              "  <script>\n",
              "    async function quickchart(key) {\n",
              "      const quickchartButtonEl =\n",
              "        document.querySelector('#' + key + ' button');\n",
              "      quickchartButtonEl.disabled = true;  // To prevent multiple clicks.\n",
              "      quickchartButtonEl.classList.add('colab-df-spinner');\n",
              "      try {\n",
              "        const charts = await google.colab.kernel.invokeFunction(\n",
              "            'suggestCharts', [key], {});\n",
              "      } catch (error) {\n",
              "        console.error('Error during call to suggestCharts:', error);\n",
              "      }\n",
              "      quickchartButtonEl.classList.remove('colab-df-spinner');\n",
              "      quickchartButtonEl.classList.add('colab-df-quickchart-complete');\n",
              "    }\n",
              "    (() => {\n",
              "      let quickchartButtonEl =\n",
              "        document.querySelector('#df-8f50a69b-0e75-425e-be01-24f2c12e1a71 button');\n",
              "      quickchartButtonEl.style.display =\n",
              "        google.colab.kernel.accessAllowed ? 'block' : 'none';\n",
              "    })();\n",
              "  </script>\n",
              "</div>\n",
              "    </div>\n",
              "  </div>\n"
            ]
          },
          "metadata": {},
          "execution_count": 54
        }
      ],
      "source": [
        "df.head()"
      ]
    },
    {
      "cell_type": "code",
      "execution_count": 55,
      "id": "40ad45b0",
      "metadata": {
        "colab": {
          "base_uri": "https://localhost:8080/"
        },
        "id": "40ad45b0",
        "outputId": "f3c4da94-8ed5-49e0-84f9-b6f70d9077ad"
      },
      "outputs": [
        {
          "output_type": "stream",
          "name": "stdout",
          "text": [
            "<class 'pandas.core.frame.DataFrame'>\n",
            "RangeIndex: 100 entries, 0 to 99\n",
            "Data columns (total 10 columns):\n",
            " #   Column             Non-Null Count  Dtype  \n",
            "---  ------             --------------  -----  \n",
            " 0   id                 100 non-null    int64  \n",
            " 1   diagnosis_result   100 non-null    object \n",
            " 2   radius             100 non-null    int64  \n",
            " 3   texture            100 non-null    int64  \n",
            " 4   perimeter          100 non-null    int64  \n",
            " 5   area               100 non-null    int64  \n",
            " 6   smoothness         100 non-null    float64\n",
            " 7   compactness        100 non-null    float64\n",
            " 8   symmetry           100 non-null    float64\n",
            " 9   fractal_dimension  100 non-null    float64\n",
            "dtypes: float64(4), int64(5), object(1)\n",
            "memory usage: 7.9+ KB\n"
          ]
        }
      ],
      "source": [
        "df.info()"
      ]
    },
    {
      "cell_type": "markdown",
      "id": "d00f04af",
      "metadata": {
        "id": "d00f04af"
      },
      "source": [
        "### no missing values but there is a categorical column"
      ]
    },
    {
      "cell_type": "code",
      "execution_count": 56,
      "id": "52da0a8c",
      "metadata": {
        "colab": {
          "base_uri": "https://localhost:8080/"
        },
        "id": "52da0a8c",
        "outputId": "bcd1ef09-53db-49c4-ac4d-50239c2bff7c"
      },
      "outputs": [
        {
          "output_type": "stream",
          "name": "stdout",
          "text": [
            "Unique values in 'id': [  1   2   3   4   5   6   7   8   9  10  11  12  13  14  15  16  17  18\n",
            "  19  20  21  22  23  24  25  26  27  28  29  30  31  32  33  34  35  36\n",
            "  37  38  39  40  41  42  43  44  45  46  47  48  49  50  51  52  53  54\n",
            "  55  56  57  58  59  60  61  62  63  64  65  66  67  68  69  70  71  72\n",
            "  73  74  75  76  77  78  79  80  81  82  83  84  85  86  87  88  89  90\n",
            "  91  92  93  94  95  96  97  98  99 100]\n",
            "Unique values in 'diagnosis_result': ['M' 'B']\n",
            "Unique values in 'radius': [23  9 21 14 25 16 15 19 24 17 12 22 10 20 11 18]\n",
            "Unique values in 'texture': [12 13 27 16 19 25 26 18 24 11 21 15 22 14 23 20 17]\n",
            "Unique values in 'perimeter': [151 133 130  78 135  83 120  90  88  84 103 104 132  94  97  95 108  87\n",
            "  86  60 137 110 116 122 102 115 125 113 128 107  96  72  85 124  52  75\n",
            "  76  73 126  54  65  55  59  81 114  79 144  74 172 129  77 121  80 100\n",
            "  62]\n",
            "Unique values in 'area': [ 954 1326 1203  386 1297  477 1040  578  520  476  798  781 1123  783\n",
            "  659  685  799 1260  566  274  704 1404  905  913  645 1094  732  955\n",
            " 1088  441  899 1162  807  870  633  524  699  559  563  371 1104  545\n",
            "  532 1076  202  535  449  561  428  572  438 1033  713  409 1152  657\n",
            "  527  225  312  222  646  261  499  668  269  394  251  503 1130  244\n",
            "  929  584  471  818 1006 1245  506  402 1878 1132  443 1075  648  466\n",
            "  652  663  728  552  555  706 1264  451  295  413  643]\n",
            "Unique values in 'smoothness': [0.143 0.125 0.07  0.141 0.128 0.095 0.119 0.127 0.082 0.097 0.084 0.113\n",
            " 0.114 0.099 0.117 0.098 0.108 0.102 0.107 0.094 0.112 0.105 0.106 0.111\n",
            " 0.12  0.104 0.096 0.09  0.123 0.091 0.11  0.086 0.116 0.103 0.088 0.077\n",
            " 0.083 0.115 0.081 0.124 0.101 0.092 0.129 0.122 0.074]\n",
            "Unique values in 'compactness': [0.278 0.079 0.16  0.284 0.133 0.17  0.109 0.165 0.193 0.24  0.067 0.129\n",
            " 0.246 0.1   0.229 0.072 0.202 0.103 0.081 0.127 0.065 0.214 0.102 0.146\n",
            " 0.228 0.187 0.107 0.116 0.189 0.152 0.15  0.172 0.156 0.134 0.11  0.038\n",
            " 0.051 0.126 0.06  0.122 0.219 0.144 0.105 0.169 0.059 0.123 0.091 0.077\n",
            " 0.05  0.061 0.048 0.149 0.071 0.055 0.137 0.053 0.09  0.201 0.088 0.148\n",
            " 0.078 0.047 0.141 0.052 0.153 0.183 0.128 0.068 0.084 0.215 0.345 0.095\n",
            " 0.094 0.154 0.267 0.179 0.099 0.121 0.086 0.104 0.082 0.155 0.131 0.075\n",
            " 0.114]\n",
            "Unique values in 'symmetry': [0.242 0.181 0.207 0.26  0.209 0.179 0.22  0.235 0.203 0.153 0.184 0.24\n",
            " 0.185 0.23  0.159 0.216 0.158 0.189 0.197 0.182 0.252 0.177 0.2   0.304\n",
            " 0.225 0.17  0.193 0.174 0.218 0.19  0.147 0.157 0.172 0.178 0.231 0.175\n",
            " 0.191 0.213 0.168 0.15  0.135 0.187 0.162 0.192 0.274 0.183 0.195 0.234\n",
            " 0.152 0.211 0.166 0.18  0.215 0.291 0.194 0.163 0.208 0.212 0.169 0.139\n",
            " 0.164 0.186 0.21  0.188]\n",
            "Unique values in 'fractal_dimension': [0.079 0.057 0.06  0.097 0.059 0.076 0.075 0.074 0.082 0.061 0.078 0.053\n",
            " 0.077 0.071 0.054 0.058 0.068 0.069 0.07  0.063 0.065 0.062 0.064 0.055\n",
            " 0.056 0.072 0.073 0.066 0.067 0.08  0.09  0.081]\n"
          ]
        }
      ],
      "source": [
        "for column in df.columns:\n",
        "    unique_values = df[column].unique()\n",
        "    print(f\"Unique values in '{column}': {unique_values}\")"
      ]
    },
    {
      "cell_type": "code",
      "execution_count": 57,
      "id": "cf09da09",
      "metadata": {
        "id": "cf09da09"
      },
      "outputs": [],
      "source": [
        "df['diagnosis_result'] = df['diagnosis_result'].map({'M': 0, 'B': 1}) #convert M to 0 and B to 1"
      ]
    },
    {
      "cell_type": "code",
      "execution_count": 58,
      "id": "553b8506",
      "metadata": {
        "id": "553b8506"
      },
      "outputs": [],
      "source": [
        "X = df.drop(columns=['diagnosis_result','id']) # all columns except charges are the input variables\n",
        "y = df['diagnosis_result'] # target Variable"
      ]
    },
    {
      "cell_type": "code",
      "execution_count": 59,
      "id": "cf491bb4",
      "metadata": {
        "id": "cf491bb4"
      },
      "outputs": [],
      "source": [
        "X_train, X_test, y_train, y_test = train_test_split(X, y, test_size=0.2, random_state=42)"
      ]
    },
    {
      "cell_type": "markdown",
      "metadata": {
        "id": "Vh6zy_HWeUHh"
      },
      "source": [
        "# outliers"
      ],
      "id": "Vh6zy_HWeUHh"
    },
    {
      "cell_type": "code",
      "execution_count": 60,
      "metadata": {
        "id": "bqlU2R9YeUHq"
      },
      "outputs": [],
      "source": [
        "mean_X = np.mean(X_train, axis=0)\n",
        "std_dev_X = np.std(X_train, axis=0)\n",
        "\n",
        "# Set the threshold for outliers (e.g., 3 standard deviations)\n",
        "threshold = 3\n",
        "\n",
        "# Identify outliers in X_train\n",
        "outliers= np.any(np.abs((X_train - mean_X) / std_dev_X) > threshold, axis=1)\n",
        "\n",
        "# Remove outliers from X_train and corresponding labels from y_train\n",
        "X_train_no_outliers = X_train[~outliers]\n",
        "y_train_no_outliers = y_train[~outliers]\n"
      ],
      "id": "bqlU2R9YeUHq"
    },
    {
      "cell_type": "code",
      "execution_count": 61,
      "metadata": {
        "colab": {
          "base_uri": "https://localhost:8080/"
        },
        "outputId": "ab34290d-9d70-45e3-c137-500a3a8f1148",
        "id": "65YxGAU-eUHr"
      },
      "outputs": [
        {
          "output_type": "execute_result",
          "data": {
            "text/plain": [
              "75"
            ]
          },
          "metadata": {},
          "execution_count": 61
        }
      ],
      "source": [
        "X_train_no_outliers_shape = X_train_no_outliers.shape[0]\n",
        "X_train_no_outliers_shape"
      ],
      "id": "65YxGAU-eUHr"
    },
    {
      "cell_type": "markdown",
      "metadata": {
        "id": "3a92c05f"
      },
      "source": [
        "# normalization"
      ],
      "id": "3a92c05f"
    },
    {
      "cell_type": "code",
      "execution_count": 62,
      "id": "421a9dae",
      "metadata": {
        "id": "421a9dae"
      },
      "outputs": [],
      "source": [
        "from sklearn.preprocessing import StandardScaler\n",
        "\n",
        "scaler = StandardScaler()\n",
        "\n",
        "# Fit and transform the scaler on training data\n",
        "X_train_normalized = scaler.fit_transform(X_train_no_outliers)\n",
        "\n",
        "# Transform the test data using the same scaler\n",
        "X_test_normalized = scaler.transform(X_test)"
      ]
    },
    {
      "cell_type": "code",
      "execution_count": 63,
      "id": "4fcb2f9a",
      "metadata": {
        "colab": {
          "base_uri": "https://localhost:8080/"
        },
        "id": "4fcb2f9a",
        "outputId": "9a6db015-30df-46ee-c85f-4bc2afdd3449"
      },
      "outputs": [
        {
          "output_type": "execute_result",
          "data": {
            "text/plain": [
              "75"
            ]
          },
          "metadata": {},
          "execution_count": 63
        }
      ],
      "source": [
        "X_train_shape = X_train_normalized.shape[0]\n",
        "X_train_shape"
      ]
    },
    {
      "cell_type": "markdown",
      "id": "9c29302e",
      "metadata": {
        "id": "9c29302e"
      },
      "source": [
        "# KNN Classifier with Scikit-learn"
      ]
    },
    {
      "cell_type": "code",
      "execution_count": 64,
      "id": "34c502f6",
      "metadata": {
        "colab": {
          "base_uri": "https://localhost:8080/"
        },
        "id": "34c502f6",
        "outputId": "45ef7050-eec9-4831-9609-45cc253c1af1"
      },
      "outputs": [
        {
          "output_type": "stream",
          "name": "stdout",
          "text": [
            "KNN Accuracy (Scikit-learn): 0.85\n"
          ]
        }
      ],
      "source": [
        "knn_classifier = KNeighborsClassifier(n_neighbors=3)  # You can change the number of neighbors\n",
        "knn_classifier.fit(X_train_normalized, y_train_no_outliers)\n",
        "\n",
        "y_pred = knn_classifier.predict(X_test_normalized)\n",
        "\n",
        "accuracy = accuracy_score(y_test, y_pred)\n",
        "print(\"KNN Accuracy (Scikit-learn):\", accuracy)"
      ]
    },
    {
      "cell_type": "markdown",
      "source": [
        "# KNN From Scratch"
      ],
      "metadata": {
        "id": "LhgOOsVPdMN3"
      },
      "id": "LhgOOsVPdMN3"
    },
    {
      "cell_type": "code",
      "source": [
        "\n",
        "# K Nearest Neighbors Classification From Scrath\n",
        "\n",
        "class K_Nearest_Neighbors_Classifier() :\n",
        "\n",
        "    def __init__( self, K ) :\n",
        "        self.K = K\n",
        "\n",
        "\n",
        "\n",
        "    def fit( self, X_train, Y_train ) :\n",
        "        self.X_train = np.array(X_train)\n",
        "        self.Y_train = np.array(Y_train)\n",
        "        self.m, self.n = X_train.shape\n",
        "\n",
        "    # Prediciting\n",
        "    def predict( self, X_test ) :\n",
        "        self.X_test = np.array(X_test)\n",
        "        self.m_test, self.n = X_test.shape\n",
        "\n",
        "        Y_predict = np.zeros( self.m_test )\n",
        "\n",
        "        for i in range( self.m_test ) :\n",
        "\n",
        "            x = self.X_test[i]\n",
        "\n",
        "            # Finding the K nearest neighbors from current test example\n",
        "            neighbors = np.zeros( self.K )\n",
        "            neighbors = self.find_neighbors( x )\n",
        "\n",
        "            # Most frequent class in K neighbors\n",
        "            Y_predict[i] = mode(neighbors)[0]\n",
        "\n",
        "        return Y_predict\n",
        "\n",
        "    # Finding the K nearest neighbors to current test example\n",
        "    def find_neighbors( self, x ) :\n",
        "        # calculate all the euclidean distances between current\n",
        "        # test example x and training set X_train\n",
        "\n",
        "        euclidean_distances = np.zeros( self.m )\n",
        "        for i in range( self.m ):\n",
        "            d = self.euclidean( x, self.X_train[i] )\n",
        "            euclidean_distances[i] = d\n",
        "\n",
        "        # sort Y_train according to euclidean_distance_array and\n",
        "        # store into Y_train_sorted\n",
        "\n",
        "        inds = euclidean_distances.argsort()\n",
        "        Y_train_sorted = self.Y_train[inds]\n",
        "\n",
        "        return Y_train_sorted[:self.K]\n",
        "\n",
        "    # Calculating euclidean distance\n",
        "    def euclidean( self, x, x_train ) :\n",
        "        return np.sqrt( np.sum( np.square( x - x_train ) ) )"
      ],
      "metadata": {
        "id": "IdiwTHb0dY-F"
      },
      "id": "IdiwTHb0dY-F",
      "execution_count": 65,
      "outputs": []
    },
    {
      "cell_type": "code",
      "source": [
        "X_train = X_train_no_outliers\n",
        "y_train = y_train_no_outliers\n",
        "\n",
        "model = K_Nearest_Neighbors_Classifier( K = 3 )\n",
        "\n",
        "model.fit( X_train_normalized, y_train )\n",
        "\n",
        "# Predicting\n",
        "y_pred = model.predict( X_test_normalized)\n",
        "\n",
        "# Calculating Accuracy\n",
        "correctly_classified = 0\n",
        "count = 0\n",
        "for count in range( np.size( y_pred ) ) :\n",
        "    if np.array(y_test)[count] == y_pred[count] :\n",
        "        correctly_classified += 1\n",
        "    count += 1\n",
        "\n",
        "print( \"Accuracy on test set by our model: \", (\n",
        "  correctly_classified / count ) * 100 )"
      ],
      "metadata": {
        "colab": {
          "base_uri": "https://localhost:8080/"
        },
        "id": "j9MohXYidY3S",
        "outputId": "e8c3261a-e04f-4a34-9c65-8f173974e050"
      },
      "id": "j9MohXYidY3S",
      "execution_count": 66,
      "outputs": [
        {
          "output_type": "stream",
          "name": "stdout",
          "text": [
            "Accuracy on test set by our model:  85.0\n"
          ]
        }
      ]
    },
    {
      "cell_type": "markdown",
      "source": [
        "There is not any difference between using Sklearn or the from-scratch implementation, they both behave the same with the data."
      ],
      "metadata": {
        "id": "gR7-i8leYRrr"
      },
      "id": "gR7-i8leYRrr"
    },
    {
      "cell_type": "markdown",
      "id": "c366ba49",
      "metadata": {
        "id": "c366ba49"
      },
      "source": [
        "# Radius Nearest Neighbor Classifier with Scikit-learn"
      ]
    },
    {
      "cell_type": "code",
      "execution_count": 67,
      "id": "9548129c",
      "metadata": {
        "colab": {
          "base_uri": "https://localhost:8080/"
        },
        "id": "9548129c",
        "outputId": "0a93ecc3-8e91-4561-8aa5-8bf1ebbe405a"
      },
      "outputs": [
        {
          "output_type": "stream",
          "name": "stdout",
          "text": [
            "Radius Nearest Neighbor Accuracy (Scikit-learn): 0.75\n"
          ]
        }
      ],
      "source": [
        "radius_classifier = RadiusNeighborsClassifier(radius=100.0)\n",
        "radius_classifier.fit(X_train, y_train)\n",
        "\n",
        "y_pred_radius = radius_classifier.predict(X_test)\n",
        "\n",
        "\n",
        "accuracy_radius = accuracy_score(y_test, y_pred_radius)\n",
        "print(\"Radius Nearest Neighbor Accuracy (Scikit-learn):\", accuracy_radius)\n"
      ]
    },
    {
      "cell_type": "code",
      "execution_count": 68,
      "id": "8702c7e9",
      "metadata": {
        "colab": {
          "base_uri": "https://localhost:8080/"
        },
        "id": "8702c7e9",
        "outputId": "e6d190d6-beb7-499a-9a99-d4afbee28f39"
      },
      "outputs": [
        {
          "output_type": "stream",
          "name": "stdout",
          "text": [
            "Radius Nearest Neighbor Accuracy (Scikit-learn): 0.8\n"
          ]
        }
      ],
      "source": [
        "radius_classifier = RadiusNeighborsClassifier(radius=1000.0)\n",
        "radius_classifier.fit(X_train, y_train)\n",
        "\n",
        "y_pred_radius = radius_classifier.predict(X_test)\n",
        "\n",
        "\n",
        "accuracy_radius = accuracy_score(y_test, y_pred_radius)\n",
        "print(\"Radius Nearest Neighbor Accuracy (Scikit-learn):\", accuracy_radius)"
      ]
    },
    {
      "cell_type": "markdown",
      "id": "1ByHCRqu5rnx",
      "metadata": {
        "id": "1ByHCRqu5rnx"
      },
      "source": [
        "# Radius Nearest Neighbor From Scratch\n"
      ]
    },
    {
      "cell_type": "code",
      "execution_count": 69,
      "id": "vKEEvr655rny",
      "metadata": {
        "id": "vKEEvr655rny"
      },
      "outputs": [],
      "source": [
        "from scipy.stats import mode\n",
        "\n",
        "class Radius_Nearest_Neighbors_Classifier() :\n",
        "\n",
        "    def __init__( self, r ) :\n",
        "        self.r = r\n",
        "\n",
        "    # Store training Data\n",
        "    def fit( self, X_train, Y_train ) :\n",
        "        self.X_train = X_train\n",
        "        self.Y_train = Y_train\n",
        "        # number of trainging examples and features\n",
        "        self.t, self.f = X_train.shape\n",
        "\n",
        "    # prediction of model\n",
        "    def predict( self, X_test ) :\n",
        "        self.X_test = np.array(X_test)\n",
        "        self.t_test, self.f = X_test.shape\n",
        "        Y_predict = np.zeros( self.t_test )\n",
        "\n",
        "        for i in range( self.t_test ) :\n",
        "            x = (self.X_test)[i]\n",
        "            neighbors = self.neighbors( x )\n",
        "            Y_predict[i] = mode(neighbors)[0]\n",
        "\n",
        "        return Y_predict\n",
        "\n",
        "    # find the neighbours within the given radius\n",
        "    def neighbors( self, x ) :\n",
        "        arr = []\n",
        "\n",
        "        for i in range( self.t) :\n",
        "            calc_dist = self.euclidean_distance( x, np.array(self.X_train)[i] )\n",
        "            if calc_dist <= self.r :\n",
        "                arr.append( np.array(self.Y_train)[i] )\n",
        "\n",
        "        new_arr = np.array( arr )\n",
        "        return new_arr\n",
        "\n",
        "    # Calculate Euclidean distance\n",
        "    def euclidean_distance( self, X, X_train ) :\n",
        "        distance = np.sqrt( np.sum( np.square( X - X_train ) ) )\n",
        "        return distance\n"
      ]
    },
    {
      "cell_type": "code",
      "execution_count": 70,
      "id": "LPmwWYtX5rny",
      "metadata": {
        "colab": {
          "base_uri": "https://localhost:8080/"
        },
        "id": "LPmwWYtX5rny",
        "outputId": "2b0510bb-5da3-4813-dff9-f2bf565fa183"
      },
      "outputs": [
        {
          "output_type": "stream",
          "name": "stdout",
          "text": [
            "Accuracy of radius neighbor implementation from scratch:  0.8\n"
          ]
        }
      ],
      "source": [
        "# Model training\n",
        "model = Radius_Nearest_Neighbors_Classifier( r = 550 )\n",
        "model.fit( X_train, y_train )\n",
        "\n",
        "# Prediction on test set\n",
        "Y_pred = model.predict( X_test )\n",
        "\n",
        "# measure performance\n",
        "correctly_classified = 0\n",
        "count = 0\n",
        "\n",
        "for count in range( np.size( Y_pred ) ) :\n",
        "  if np.array(y_test)[count] == Y_pred[count] :\n",
        "    correctly_classified += 1\n",
        "  count = count + 1\n",
        "\n",
        "print(\"Accuracy of radius neighbor implementation from scratch: \", correctly_classified / count  )"
      ]
    },
    {
      "cell_type": "code",
      "execution_count": 70,
      "id": "8A1qIchF63qp",
      "metadata": {
        "id": "8A1qIchF63qp"
      },
      "outputs": [],
      "source": []
    }
  ],
  "metadata": {
    "colab": {
      "provenance": []
    },
    "kernelspec": {
      "display_name": "Python 3 (ipykernel)",
      "language": "python",
      "name": "python3"
    },
    "language_info": {
      "codemirror_mode": {
        "name": "ipython",
        "version": 3
      },
      "file_extension": ".py",
      "mimetype": "text/x-python",
      "name": "python",
      "nbconvert_exporter": "python",
      "pygments_lexer": "ipython3",
      "version": "3.10.7"
    }
  },
  "nbformat": 4,
  "nbformat_minor": 5
}